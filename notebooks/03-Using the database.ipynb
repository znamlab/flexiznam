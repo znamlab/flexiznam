{
 "cells": [
  {
   "cell_type": "markdown",
   "metadata": {},
   "source": [
    "# Finding data\n",
    "\n",
    "## Using the web interface\n",
    "\n",
    "You can click down the hierachy or use the find tool\n",
    "\n",
    "## Using flexiznam"
   ]
  },
  {
   "cell_type": "code",
   "execution_count": null,
   "metadata": {},
   "outputs": [],
   "source": [
    "# import and get a token to log in to flexilims\n",
    "import flexiznam as flz\n",
    "\n",
    "flm_sess = flz.get_flexilims_session(project_id=\"demo_project\")"
   ]
  },
  {
   "cell_type": "code",
   "execution_count": null,
   "metadata": {},
   "outputs": [],
   "source": [
    "mouse = flz.get_entity(name=\"PZAJ5.1a\", datatype=\"mouse\", flexilims_session=flm_sess)\n",
    "print(mouse)"
   ]
  },
  {
   "cell_type": "code",
   "execution_count": null,
   "metadata": {},
   "outputs": [],
   "source": [
    "sess = flz.get_children(\n",
    "    parent_id=mouse.id, children_datatype=\"session\", flexilims_session=flm_sess\n",
    ")\n",
    "sess"
   ]
  },
  {
   "cell_type": "code",
   "execution_count": null,
   "metadata": {},
   "outputs": [],
   "source": [
    "sess = sess.loc[0]\n",
    "sess"
   ]
  },
  {
   "cell_type": "code",
   "execution_count": null,
   "metadata": {},
   "outputs": [],
   "source": [
    "datasets = flz.get_entities(datatype=\"dataset\", flexilims_session=flm_sess)\n",
    "datasets"
   ]
  },
  {
   "cell_type": "markdown",
   "metadata": {},
   "source": [
    "See also:\n",
    "- `flz.get_experimental_session`\n",
    "- `flz.get_datasets`"
   ]
  },
  {
   "cell_type": "markdown",
   "metadata": {},
   "source": [
    "# Analysing data\n",
    "\n",
    "## Find path and load data\n",
    "\n",
    "Once you have some entity out of the database you will want to access the data. The path stored in the database is relative"
   ]
  },
  {
   "cell_type": "code",
   "execution_count": null,
   "metadata": {},
   "outputs": [],
   "source": [
    "overlay = flz.get_entity(\n",
    "    name=\"PZAJ5.1a_brain_slide4_slice3_stack_30X_overlay_example.png\",\n",
    "    datatype=\"dataset\",\n",
    "    flexilims_session=flm_sess,\n",
    ")\n",
    "overlay.path"
   ]
  },
  {
   "cell_type": "markdown",
   "metadata": {},
   "source": [
    "You can create the full path using config info and the `is_raw` flag"
   ]
  },
  {
   "cell_type": "code",
   "execution_count": null,
   "metadata": {},
   "outputs": [],
   "source": [
    "from pathlib import Path\n",
    "\n",
    "data_root = flz.PARAMETERS[\"data_root\"]\n",
    "path = Path(data_root[\"raw\"] if overlay.is_raw else data_root[\"raw\"]) / overlay.path\n",
    "print(path)\n",
    "print(path.is_file())"
   ]
  },
  {
   "cell_type": "markdown",
   "metadata": {},
   "source": [
    "## Do analysis\n",
    "\n",
    "### Create container"
   ]
  },
  {
   "cell_type": "code",
   "execution_count": null,
   "metadata": {},
   "outputs": [],
   "source": [
    "from flexiznam.schema import Dataset\n",
    "\n",
    "conflicts = \"append\"\n",
    "exp_session = flz.get_entity(\n",
    "    datatype=\"session\", name=\"PZAJ5.1a_S20210513\", flexilims_session=flm_sess\n",
    ")\n",
    "\n",
    "suite2p_dataset = Dataset.from_origin(\n",
    "    project=\"demo_project\",\n",
    "    origin_type=\"session\",\n",
    "    origin_id=exp_session[\"id\"],\n",
    "    dataset_type=\"suite2p_rois\",\n",
    "    conflicts=conflicts,\n",
    "    flexilims_session=flm_sess,\n",
    ")"
   ]
  },
  {
   "cell_type": "markdown",
   "metadata": {},
   "source": [
    "### Update it"
   ]
  },
  {
   "cell_type": "code",
   "execution_count": null,
   "metadata": {},
   "outputs": [],
   "source": [
    "print(suite2p_dataset.flexilims_status())\n",
    "print(suite2p_dataset.is_raw)"
   ]
  },
  {
   "cell_type": "code",
   "execution_count": null,
   "metadata": {},
   "outputs": [],
   "source": [
    "# do analysis\n",
    "suite2p_dataset.extra_attributes = dict(param1=3, param2=\"deconvolve\")"
   ]
  },
  {
   "cell_type": "markdown",
   "metadata": {},
   "source": [
    "### Upload it"
   ]
  },
  {
   "cell_type": "code",
   "execution_count": null,
   "metadata": {},
   "outputs": [],
   "source": [
    "suite2p_dataset.update_flexilims()"
   ]
  },
  {
   "cell_type": "code",
   "execution_count": null,
   "metadata": {},
   "outputs": [],
   "source": [
    "suite2p_dataset.flexilims_status()"
   ]
  },
  {
   "cell_type": "code",
   "execution_count": null,
   "metadata": {},
   "outputs": [],
   "source": [
    "suite2p_dataset.extra_attributes[\"param2\"] = \"convolve\"\n",
    "suite2p_dataset.flexilims_status()"
   ]
  },
  {
   "cell_type": "code",
   "execution_count": null,
   "metadata": {},
   "outputs": [],
   "source": [
    "suite2p_dataset.flexilims_report()"
   ]
  },
  {
   "cell_type": "code",
   "execution_count": null,
   "metadata": {},
   "outputs": [],
   "source": [
    "suite2p_dataset.update_flexilims()"
   ]
  },
  {
   "cell_type": "markdown",
   "metadata": {},
   "source": [
    "## Repeat"
   ]
  },
  {
   "cell_type": "code",
   "execution_count": null,
   "metadata": {},
   "outputs": [],
   "source": [
    "suite2p_dataset = Dataset.from_origin(\n",
    "    project=\"demo_project\",\n",
    "    origin_type=\"session\",\n",
    "    origin_id=exp_session[\"id\"],\n",
    "    dataset_type=\"suite2p_rois\",\n",
    "    conflicts=conflicts,\n",
    "    flexilims_session=flm_sess,\n",
    ")\n",
    "suite2p_dataset.extra_attributes = dict(param2=\"anothermethod\")\n",
    "suite2p_dataset.update_flexilims()"
   ]
  },
  {
   "cell_type": "markdown",
   "metadata": {},
   "source": [
    "## Analyse the next step"
   ]
  },
  {
   "cell_type": "code",
   "execution_count": null,
   "metadata": {},
   "outputs": [],
   "source": [
    "datasets = flz.get_entities(\n",
    "    origin_id=exp_session.id, datatype=\"dataset\", flexilims_session=flm_sess\n",
    ")\n",
    "datasets[(datasets.dataset_type == \"suite2p_rois\")]"
   ]
  },
  {
   "cell_type": "code",
   "execution_count": null,
   "metadata": {},
   "outputs": [],
   "source": [
    "datasets[(datasets.dataset_type == \"suite2p_rois\") & (datasets.param2 == \"deconvolve\")]"
   ]
  }
 ],
 "metadata": {
  "kernelspec": {
   "language": "python"
  },
  "language_info": {
   "codemirror_mode": {
    "name": "ipython",
    "version": 3
   },
   "file_extension": ".py",
   "mimetype": "text/x-python",
   "name": "python",
   "nbconvert_exporter": "python",
   "pygments_lexer": "ipython3"
  },
  "toc": {
   "base_numbering": 1,
   "nav_menu": {},
   "number_sections": true,
   "sideBar": true,
   "skip_h1_title": false,
   "title_cell": "Table of Contents",
   "title_sidebar": "Contents",
   "toc_cell": false,
   "toc_position": {},
   "toc_section_display": true,
   "toc_window_display": false
  }
 },
 "nbformat": 4,
 "nbformat_minor": 4
}
