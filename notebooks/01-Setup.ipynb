{
 "cells": [
  {
   "cell_type": "markdown",
   "metadata": {},
   "source": [
    "# What is the problem?\n",
    "\n",
    "We have lot of datasets with complex relation to each other that need to be analysed together.\n",
    "\n",
    "## Two photon recording\n",
    "\n",
    "![Example dataset](dataset_example.jpeg)\n",
    "\n",
    "## Rabies tracing\n",
    "\n",
    "![Example dataset 2](dataset_example.002.jpeg)\n",
    "\n",
    "- We want to repeat the same operation on multiple neurons/mice\n",
    "- We need to keep track of relationship between parts of dataset (neuron from which mouse?)\n",
    "- We would like to find again our experiments in the future... \n",
    "\n",
    "## Solution\n",
    "\n",
    "A database including everything. We use the Crick database `Flexilims` and add a layer of lab specific utilities to make it `Flexiznam`."
   ]
  },
  {
   "cell_type": "markdown",
   "metadata": {},
   "source": [
    "# Principle\n",
    "\n",
    "## Database\n",
    "\n",
    "![database](database.png)\n",
    "\n",
    "- Hierachical data structure\n",
    "- Flexible attributes for each level\n",
    "- Matched to a semi-constrained data organisation on CAMP\n",
    "\n",
    "## Data organisation\n",
    "\n",
    "![file_system](file_system.png)\n",
    "\n",
    "- Separates Raw and Processed data\n",
    "    - Simplify archiving\n",
    "    - Protects raw data from accident"
   ]
  },
  {
   "cell_type": "markdown",
   "metadata": {},
   "source": [
    "# How to use flexiznam?\n",
    "\n",
    "## Install it\n",
    "\n",
    "Installation is simpler inside a `conda` environment. \n",
    "\n",
    "To setup `conda` on CAMP, see the [lab handook]( https://handbook.znamlab.org/CAMP.html#setting-up-conda-environments)\n",
    "\n",
    "```\n",
    "conda create --name flexenv python=3\n",
    "conda activate flexenv\n",
    "pip install git+ssh://git@github.com/znamlab/flexiznam.git@dev\n",
    "```\n",
    "\n",
    "Note: if you want to modify `flexiznam`, see the docs to clone and install the locally the dev version.\n",
    "\n",
    "## Setup flexiznam"
   ]
  },
  {
   "cell_type": "code",
   "execution_count": null,
   "metadata": {},
   "outputs": [],
   "source": [
    "# For me, remove my config:\n",
    "!mv  ~/.flexiznam/config.yml  ~/.flexiznam/config.yml.backup\n",
    "!mv  ~/.flexiznam/secret_password.yml  ~/.flexiznam/secret_password.yml.backup"
   ]
  },
  {
   "cell_type": "markdown",
   "metadata": {},
   "source": [
    "### Configuration\n",
    "\n",
    "Use the command line interface\n",
    "\n",
    "There is some documentation\n",
    "```\n",
    "flexiznam --help\n",
    "flexiznam config --help\n",
    "```\n",
    "\n",
    "Creating the file is simple:\n",
    "\n",
    "```\n",
    "flexiznam config\n",
    "```"
   ]
  },
  {
   "cell_type": "code",
   "execution_count": null,
   "metadata": {},
   "outputs": [],
   "source": [
    "!flexiznam config"
   ]
  },
  {
   "cell_type": "markdown",
   "metadata": {},
   "source": [
    "The file can then be edited in any text editor.\n",
    "You should change at least the `flexilims_username` and `mcms_username`"
   ]
  },
  {
   "cell_type": "markdown",
   "metadata": {},
   "source": [
    "\n",
    "### Password management [optional]\n",
    "\n",
    "For convenience, password can be stored on a local file **uncrypted and unprotected**, make sure you don't upload this file on git or don't use a password that you re-use anywhere else.\n",
    "\n",
    "```\n",
    "flexiznam add-password\n",
    "```\n",
    "\n",
    "This will create or edit `~/.flexiznam/secret_password.yml`\n"
   ]
  },
  {
   "cell_type": "code",
   "execution_count": null,
   "metadata": {},
   "outputs": [],
   "source": [
    "!cat ~/.flexiznam/secret_password.yml"
   ]
  },
  {
   "cell_type": "markdown",
   "metadata": {},
   "source": [
    "It is a good idea to make sure that you are the only one able to access that file by doing:\n",
    "\n",
    "`chmod 700 ~/.flexiznam/secret_password.yml`\n",
    "\n",
    "(works on Unix and Max, on Windows you're on your own)"
   ]
  },
  {
   "cell_type": "code",
   "execution_count": null,
   "metadata": {},
   "outputs": [],
   "source": [
    "# For me only, restore my config:\n",
    "!mv  ~/.flexiznam/config.yml.backup  ~/.flexiznam/config.yml\n",
    "!mv  ~/.flexiznam/secret_password.yml.backup  ~/.flexiznam/secret_password.yml"
   ]
  }
 ],
 "metadata": {
  "kernelspec": {
   "language": "python"
  },
  "language_info": {
   "codemirror_mode": {
    "name": "ipython",
    "version": 3
   },
   "file_extension": ".py",
   "mimetype": "text/x-python",
   "name": "python",
   "nbconvert_exporter": "python",
   "pygments_lexer": "ipython3"
  },
  "toc": {
   "base_numbering": 1,
   "nav_menu": {},
   "number_sections": true,
   "sideBar": true,
   "skip_h1_title": false,
   "title_cell": "Table of Contents",
   "title_sidebar": "Contents",
   "toc_cell": false,
   "toc_position": {},
   "toc_section_display": true,
   "toc_window_display": false
  }
 },
 "nbformat": 4,
 "nbformat_minor": 4
}
