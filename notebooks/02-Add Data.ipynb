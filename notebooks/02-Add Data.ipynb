{
 "cells": [
  {
   "cell_type": "markdown",
   "metadata": {},
   "source": [
    "# Adding data\n",
    "\n",
    "## Create a project\n",
    "\n",
    "This can be done only using the web interface\n",
    "\n",
    "They cannot be deleted by user. Write to Mike Gavrielides to get help"
   ]
  },
  {
   "cell_type": "markdown",
   "metadata": {},
   "source": [
    "## Add mice\n",
    "\n",
    "- Can work only from a computer with a web browser and a graphical interface.\n",
    "- Need to be on the crick network (vpn)\n",
    "- Requires the `download_folder` in the config file.\n",
    "\n",
    "Example:"
   ]
  },
  {
   "cell_type": "code",
   "execution_count": null,
   "metadata": {},
   "outputs": [],
   "source": [
    "!flexiznam add-mouse -p demo_project -m PZAJ5.1a"
   ]
  },
  {
   "cell_type": "markdown",
   "metadata": {},
   "source": [
    "## Add data using flexilims web interface\n",
    "\n",
    "### Upload CSV\n",
    "\n",
    "A bit cumbersome. I don't use it but it works. You can try it.\n",
    "\n",
    "### As a child of an existing entity\n",
    "\n",
    "Just go to the entity page and click \"Add\" in the right margin.\n",
    "\n",
    "- Easy to do\n",
    "- Slow\n",
    "- Cannot set custom attributes"
   ]
  },
  {
   "cell_type": "markdown",
   "metadata": {},
   "source": [
    "## Using Flexilims\n",
    "\n",
    "The low level API can be access directly"
   ]
  },
  {
   "cell_type": "code",
   "execution_count": null,
   "metadata": {},
   "outputs": [],
   "source": [
    "from flexilims import Flexilims\n",
    "import flexiznam as flm\n",
    "\n",
    "# create a session\n",
    "user = flm.PARAMETERS[\"flexilims_username\"]\n",
    "flm_sess = Flexilims(\n",
    "    username=user, password=flm.get_password(username=user, app=\"flexilims\")\n",
    ")\n",
    "\n",
    "flm_sess.post(\n",
    "    datatype=\"dataset\",\n",
    "    name=\"important_metadata\",\n",
    "    origin_id=\"6109ac55a651ff0b6237e101\",\n",
    "    project_id=\"610989f9a651ff0b6237e0f6\",\n",
    "    attributes=dict(\n",
    "        path=\"PZAJ5.1a/metadata.txt\", dataset_type=\"other\", custom_field=\"very personal\"\n",
    "    ),\n",
    "    strict_validation=False,\n",
    ")"
   ]
  },
  {
   "cell_type": "markdown",
   "metadata": {},
   "source": [
    "## Using flexiznam\n",
    "\n",
    "The low level API is pain. ID in particular are annoying. Flexiznam has some functions to simplify that and make sure you add element that will be understood by the rest of the codebase"
   ]
  },
  {
   "cell_type": "code",
   "execution_count": null,
   "metadata": {},
   "outputs": [],
   "source": [
    "import flexiznam as flm\n",
    "\n",
    "flm_sess = flm.get_flexilims_session(project_id=\"demo_project\")"
   ]
  },
  {
   "cell_type": "markdown",
   "metadata": {},
   "source": [
    "Check:\n",
    "\n",
    "```\n",
    "flm.add_entity\n",
    "flm.add_dataset\n",
    "flm.add_experimental_session\n",
    "flm.add_recording\n",
    "flm.add_sample\n",
    "```"
   ]
  },
  {
   "cell_type": "code",
   "execution_count": null,
   "metadata": {},
   "outputs": [],
   "source": [
    "# get parent id\n",
    "flm.add_dataset(\n",
    "    parent_id=\"6109ac55a651ff0b6237e101\",\n",
    "    dataset_type=\"microscopy\",\n",
    "    created=\"2021-08-04 10:58:29\",\n",
    "    path=\"PZAJ5.1a/image.png\",\n",
    "    is_raw=\"no\",\n",
    "    flexilims_session=flm_sess,\n",
    "    dataset_name=\"pretty_picture\",\n",
    "    strict_validation=False,\n",
    ")"
   ]
  },
  {
   "cell_type": "markdown",
   "metadata": {},
   "source": [
    "## Using yaml files\n",
    "\n",
    "### Physiology data\n",
    "\n",
    "Data is organised in `Session` and `Recording`. Both can contain `Datasets`. The minimum info for `flexiznam` to find the data can be given in a yaml file like that:"
   ]
  },
  {
   "cell_type": "code",
   "execution_count": null,
   "metadata": {},
   "outputs": [],
   "source": [
    "%%writefile /Volumes/lab-znamenskiyp/home/shared/projects/demo_project/physio_acq.yml\n",
    "\n",
    "project: \"demo_project\"\n",
    "mouse: \"PZAJ5.1a\"\n",
    "session: \"S20210513\"\n",
    "recordings:\n",
    "  R182758_SphereCylinder:\n",
    "    protocol: \"SphereCylinder\"\n",
    "    notes: \"This is the best recording\"\n",
    "  R193432_Retinotopy:\n",
    "    protocol: \"Retinotopy\"\n",
    "    attributes:\n",
    "        objective: \"40x\"\n",
    "        list_of_stuff: [1, 2, \"three\"]"
   ]
  },
  {
   "cell_type": "markdown",
   "metadata": {},
   "source": [
    "Then you can use `flexiznam process-yaml` to make sure that everything is fine\n",
    "\n",
    "```\n",
    "cd /Volumes/lab-znamenskiyp/home/shared/projects/demo_project/\n",
    "flexiznam process-yaml --source_yaml physio_acq.yml\n",
    "```\n",
    "\n",
    "Check the generated file and look for `XXERRORXX` flag.\n",
    "Then you can upload to `flexilims`\n",
    "\n",
    "```\n",
    "flexiznam yaml-to-flexilims --source_yaml physio_acq_autogenerated_full_file.yml\n",
    "```"
   ]
  },
  {
   "cell_type": "markdown",
   "metadata": {},
   "source": [
    "### Other data\n",
    "\n",
    "Data that is not organised in sessions, can be attached to `sample` instead. The rest is similar"
   ]
  },
  {
   "cell_type": "code",
   "execution_count": null,
   "metadata": {},
   "outputs": [],
   "source": [
    "%%writefile /Volumes/lab-znamenskiyp/home/shared/projects/demo_project/ex_vivo_acq.yml\n",
    "\n",
    "project: \"demo_project\"\n",
    "mouse: \"PZAJ5.1a\"\n",
    "session: \n",
    "samples:\n",
    "    brain:\n",
    "        notes: 'perfused brain'\n",
    "        samples:\n",
    "            slide4:\n",
    "                samples:\n",
    "                    slice3:"
   ]
  },
  {
   "cell_type": "markdown",
   "metadata": {},
   "source": [
    "Process the yaml\n",
    "\n",
    "```flexiznam process-yaml --source_yaml ex_vivo_acq.yml```\n",
    "\n",
    "And upload it:\n",
    "\n",
    "```flexiznam yaml-to-flexilims --source_yaml ex_vivo_acq_autogenerated_full_file.yml```\n"
   ]
  }
 ],
 "metadata": {
  "kernelspec": {
   "display_name": "Python 3",
   "language": "python",
   "name": "python3"
  },
  "language_info": {
   "codemirror_mode": {
    "name": "ipython",
    "version": 3
   },
   "file_extension": ".py",
   "mimetype": "text/x-python",
   "name": "python",
   "nbconvert_exporter": "python",
   "pygments_lexer": "ipython3",
   "version": "3.8.5"
  },
  "toc": {
   "base_numbering": 1,
   "nav_menu": {},
   "number_sections": true,
   "sideBar": true,
   "skip_h1_title": false,
   "title_cell": "Table of Contents",
   "title_sidebar": "Contents",
   "toc_cell": false,
   "toc_position": {},
   "toc_section_display": true,
   "toc_window_display": false
  }
 },
 "nbformat": 4,
 "nbformat_minor": 4
}
